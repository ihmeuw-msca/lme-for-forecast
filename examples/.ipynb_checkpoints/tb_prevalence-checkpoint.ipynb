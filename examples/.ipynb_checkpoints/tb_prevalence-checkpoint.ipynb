{
 "cells": [
  {
   "cell_type": "code",
   "execution_count": 1,
   "metadata": {},
   "outputs": [],
   "source": [
    "import pandas as pd\n",
    "import numpy as np\n",
    "#import limetr\n",
    "import matplotlib.pyplot as plt\n",
    "import sys\n",
    "path = '../code/'\n",
    "sys.path.insert(0,path)\n",
    "from lme_forecast import LME\n",
    "import copy"
   ]
  },
  {
   "cell_type": "code",
   "execution_count": 2,
   "metadata": {},
   "outputs": [],
   "source": [
    "data = pd.read_csv('./data/tb_prevalence.csv')\n",
    "data = data.sort_values(by=['location_id','age_group_id','sex_id','year_id'])"
   ]
  },
  {
   "cell_type": "markdown",
   "metadata": {},
   "source": [
    "#### The model\n",
    "$$ \\log(y) = \\beta_I\\text{age-sex} + \\beta_1 \\text{HAQ} + \\pi_{l} $$\n",
    "$$ \\log(y) = \\beta_I\\text{age-sex} + \\beta_1 (\\text{HAQ} - \\overline{\\text{HAQ}}) + \\pi_{l} $$"
   ]
  },
  {
   "cell_type": "code",
   "execution_count": 4,
   "metadata": {},
   "outputs": [],
   "source": [
    "lme_fit_no_random = data['lme_fit'].values"
   ]
  },
  {
   "cell_type": "code",
   "execution_count": 3,
   "metadata": {},
   "outputs": [],
   "source": [
    "X = np.zeros((data['value'].values.shape[0],2))\n",
    "X[:,0] = data['haq'].values\n",
    "X[:,1] = data['haq'].values - np.mean(data['haq'].values)"
   ]
  },
  {
   "cell_type": "markdown",
   "metadata": {},
   "source": [
    "- use HAQ directly"
   ]
  },
  {
   "cell_type": "code",
   "execution_count": 5,
   "metadata": {},
   "outputs": [
    {
     "name": "stdout",
     "output_type": "stream",
     "text": [
      "number of datapoints 251160\n",
      "number of studies 195\n",
      "number of global effects coefs 47\n",
      "number of random effects coefs 1\n",
      "total number of fixed effects variables 49\n",
      "fit with gamma fixed...\n",
      "finished...elapsed 2.168102979660034\n",
      "elapsed 23.071925163269043\n"
     ]
    }
   ],
   "source": [
    "model = LME(data['value'].values,X,[0],ran_intercept=True)\n",
    "import time\n",
    "t0 = time.time()\n",
    "model.optimize(inner_max_iter=1000,outer_max_iter=1,share_obs_std=True)\n",
    "print('elapsed',time.time()-t0)"
   ]
  },
  {
   "cell_type": "markdown",
   "metadata": {},
   "source": [
    "- use centered HAQ"
   ]
  },
  {
   "cell_type": "code",
   "execution_count": 6,
   "metadata": {},
   "outputs": [
    {
     "name": "stdout",
     "output_type": "stream",
     "text": [
      "number of datapoints 251160\n",
      "number of studies 195\n",
      "number of global effects coefs 47\n",
      "number of random effects coefs 1\n",
      "total number of fixed effects variables 49\n",
      "fit with gamma fixed...\n",
      "finished...elapsed 1.9841079711914062\n",
      "elapsed 3.486696243286133\n"
     ]
    }
   ],
   "source": [
    "model2 = LME(data['value'].values,X,[1],ran_intercept=True)\n",
    "import time\n",
    "t0 = time.time()\n",
    "model2.optimize(inner_max_iter=1000,outer_max_iter=1,share_obs_std=True)\n",
    "print('elapsed',time.time()-t0)"
   ]
  },
  {
   "cell_type": "markdown",
   "metadata": {},
   "source": [
    "- compare y fit from two models"
   ]
  },
  {
   "cell_type": "code",
   "execution_count": 7,
   "metadata": {},
   "outputs": [
    {
     "name": "stdout",
     "output_type": "stream",
     "text": [
      "[0.15209316] [0.02111712]\n",
      "[0.15209213] [0.02111712]\n",
      "7.320150688897461e-06\n",
      "0.006619792467840186\n"
     ]
    }
   ],
   "source": [
    "print(model.gamma_soln, model.delta_soln)\n",
    "print(model2.gamma_soln, model2.delta_soln)\n",
    "print(np.linalg.norm(model.yfit - model2.yfit))\n",
    "print(np.linalg.norm(model.yfit_no_random-model2.yfit_no_random))"
   ]
  },
  {
   "cell_type": "markdown",
   "metadata": {},
   "source": [
    "- compare with lme4 fit"
   ]
  },
  {
   "cell_type": "code",
   "execution_count": 8,
   "metadata": {},
   "outputs": [
    {
     "name": "stdout",
     "output_type": "stream",
     "text": [
      "0.09505403928195257\n",
      "0.0898879680881674\n"
     ]
    }
   ],
   "source": [
    "print(np.linalg.norm(model.yfit_no_random- lme_fit_no_random))\n",
    "print(np.linalg.norm(model2.yfit_no_random- lme_fit_no_random))"
   ]
  }
 ],
 "metadata": {
  "kernelspec": {
   "display_name": "Python 3",
   "language": "python",
   "name": "python3"
  },
  "language_info": {
   "codemirror_mode": {
    "name": "ipython",
    "version": 3
   },
   "file_extension": ".py",
   "mimetype": "text/x-python",
   "name": "python",
   "nbconvert_exporter": "python",
   "pygments_lexer": "ipython3",
   "version": "3.6.8"
  }
 },
 "nbformat": 4,
 "nbformat_minor": 2
}
