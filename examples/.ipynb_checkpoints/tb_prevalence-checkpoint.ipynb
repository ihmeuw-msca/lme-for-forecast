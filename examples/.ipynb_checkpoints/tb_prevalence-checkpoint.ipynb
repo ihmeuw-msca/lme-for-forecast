{
 "cells": [
  {
   "cell_type": "code",
   "execution_count": 1,
   "metadata": {},
   "outputs": [],
   "source": [
    "import numpy as np\n",
    "import sys\n",
    "sys.path.insert(0,'../code/')\n",
    "from lme_forecast_general import LME\n",
    "import pandas as pd"
   ]
  },
  {
   "cell_type": "markdown",
   "metadata": {},
   "source": [
    "#### Read data"
   ]
  },
  {
   "cell_type": "code",
   "execution_count": 2,
   "metadata": {},
   "outputs": [],
   "source": [
    "data = pd.read_csv('./data/tb_prevalence.csv')\n",
    "data = data.sort_values(by=['location_id','age_group_id','sex_id','year_id'])\n",
    "data = data.iloc[:,1:]"
   ]
  },
  {
   "cell_type": "code",
   "execution_count": 3,
   "metadata": {},
   "outputs": [
    {
     "data": {
      "text/html": [
       "<div>\n",
       "<style scoped>\n",
       "    .dataframe tbody tr th:only-of-type {\n",
       "        vertical-align: middle;\n",
       "    }\n",
       "\n",
       "    .dataframe tbody tr th {\n",
       "        vertical-align: top;\n",
       "    }\n",
       "\n",
       "    .dataframe thead th {\n",
       "        text-align: right;\n",
       "    }\n",
       "</style>\n",
       "<table border=\"1\" class=\"dataframe\">\n",
       "  <thead>\n",
       "    <tr style=\"text-align: right;\">\n",
       "      <th></th>\n",
       "      <th>age_group_id</th>\n",
       "      <th>location_id</th>\n",
       "      <th>sex_id</th>\n",
       "      <th>year_id</th>\n",
       "      <th>value</th>\n",
       "      <th>haq</th>\n",
       "      <th>intercept</th>\n",
       "      <th>2_X_1</th>\n",
       "      <th>2_X_2</th>\n",
       "      <th>3_X_1</th>\n",
       "      <th>...</th>\n",
       "      <th>20_X_2</th>\n",
       "      <th>30_X_1</th>\n",
       "      <th>30_X_2</th>\n",
       "      <th>31_X_1</th>\n",
       "      <th>31_X_2</th>\n",
       "      <th>32_X_1</th>\n",
       "      <th>32_X_2</th>\n",
       "      <th>235_X_1</th>\n",
       "      <th>235_X_2</th>\n",
       "      <th>lme_fit</th>\n",
       "    </tr>\n",
       "  </thead>\n",
       "  <tbody>\n",
       "    <tr>\n",
       "      <th>0</th>\n",
       "      <td>2</td>\n",
       "      <td>6</td>\n",
       "      <td>1</td>\n",
       "      <td>1990</td>\n",
       "      <td>-1.816082</td>\n",
       "      <td>43.258941</td>\n",
       "      <td>1</td>\n",
       "      <td>1</td>\n",
       "      <td>0</td>\n",
       "      <td>0</td>\n",
       "      <td>...</td>\n",
       "      <td>0</td>\n",
       "      <td>0</td>\n",
       "      <td>0</td>\n",
       "      <td>0</td>\n",
       "      <td>0</td>\n",
       "      <td>0</td>\n",
       "      <td>0</td>\n",
       "      <td>0</td>\n",
       "      <td>0</td>\n",
       "      <td>-2.285194</td>\n",
       "    </tr>\n",
       "    <tr>\n",
       "      <th>1</th>\n",
       "      <td>2</td>\n",
       "      <td>6</td>\n",
       "      <td>1</td>\n",
       "      <td>1991</td>\n",
       "      <td>-1.828331</td>\n",
       "      <td>44.078531</td>\n",
       "      <td>1</td>\n",
       "      <td>1</td>\n",
       "      <td>0</td>\n",
       "      <td>0</td>\n",
       "      <td>...</td>\n",
       "      <td>0</td>\n",
       "      <td>0</td>\n",
       "      <td>0</td>\n",
       "      <td>0</td>\n",
       "      <td>0</td>\n",
       "      <td>0</td>\n",
       "      <td>0</td>\n",
       "      <td>0</td>\n",
       "      <td>0</td>\n",
       "      <td>-2.308028</td>\n",
       "    </tr>\n",
       "    <tr>\n",
       "      <th>2</th>\n",
       "      <td>2</td>\n",
       "      <td>6</td>\n",
       "      <td>1</td>\n",
       "      <td>1992</td>\n",
       "      <td>-1.838447</td>\n",
       "      <td>44.913657</td>\n",
       "      <td>1</td>\n",
       "      <td>1</td>\n",
       "      <td>0</td>\n",
       "      <td>0</td>\n",
       "      <td>...</td>\n",
       "      <td>0</td>\n",
       "      <td>0</td>\n",
       "      <td>0</td>\n",
       "      <td>0</td>\n",
       "      <td>0</td>\n",
       "      <td>0</td>\n",
       "      <td>0</td>\n",
       "      <td>0</td>\n",
       "      <td>0</td>\n",
       "      <td>-2.331294</td>\n",
       "    </tr>\n",
       "    <tr>\n",
       "      <th>3</th>\n",
       "      <td>2</td>\n",
       "      <td>6</td>\n",
       "      <td>1</td>\n",
       "      <td>1993</td>\n",
       "      <td>-1.846512</td>\n",
       "      <td>45.764612</td>\n",
       "      <td>1</td>\n",
       "      <td>1</td>\n",
       "      <td>0</td>\n",
       "      <td>0</td>\n",
       "      <td>...</td>\n",
       "      <td>0</td>\n",
       "      <td>0</td>\n",
       "      <td>0</td>\n",
       "      <td>0</td>\n",
       "      <td>0</td>\n",
       "      <td>0</td>\n",
       "      <td>0</td>\n",
       "      <td>0</td>\n",
       "      <td>0</td>\n",
       "      <td>-2.355002</td>\n",
       "    </tr>\n",
       "    <tr>\n",
       "      <th>4</th>\n",
       "      <td>2</td>\n",
       "      <td>6</td>\n",
       "      <td>1</td>\n",
       "      <td>1994</td>\n",
       "      <td>-1.852300</td>\n",
       "      <td>46.631696</td>\n",
       "      <td>1</td>\n",
       "      <td>1</td>\n",
       "      <td>0</td>\n",
       "      <td>0</td>\n",
       "      <td>...</td>\n",
       "      <td>0</td>\n",
       "      <td>0</td>\n",
       "      <td>0</td>\n",
       "      <td>0</td>\n",
       "      <td>0</td>\n",
       "      <td>0</td>\n",
       "      <td>0</td>\n",
       "      <td>0</td>\n",
       "      <td>0</td>\n",
       "      <td>-2.379159</td>\n",
       "    </tr>\n",
       "  </tbody>\n",
       "</table>\n",
       "<p>5 rows × 54 columns</p>\n",
       "</div>"
      ],
      "text/plain": [
       "   age_group_id  location_id  sex_id  year_id     value        haq  intercept  \\\n",
       "0             2            6       1     1990 -1.816082  43.258941          1   \n",
       "1             2            6       1     1991 -1.828331  44.078531          1   \n",
       "2             2            6       1     1992 -1.838447  44.913657          1   \n",
       "3             2            6       1     1993 -1.846512  45.764612          1   \n",
       "4             2            6       1     1994 -1.852300  46.631696          1   \n",
       "\n",
       "   2_X_1  2_X_2  3_X_1  ...  20_X_2  30_X_1  30_X_2  31_X_1  31_X_2  32_X_1  \\\n",
       "0      1      0      0  ...       0       0       0       0       0       0   \n",
       "1      1      0      0  ...       0       0       0       0       0       0   \n",
       "2      1      0      0  ...       0       0       0       0       0       0   \n",
       "3      1      0      0  ...       0       0       0       0       0       0   \n",
       "4      1      0      0  ...       0       0       0       0       0       0   \n",
       "\n",
       "   32_X_2  235_X_1  235_X_2   lme_fit  \n",
       "0       0        0        0 -2.285194  \n",
       "1       0        0        0 -2.308028  \n",
       "2       0        0        0 -2.331294  \n",
       "3       0        0        0 -2.355002  \n",
       "4       0        0        0 -2.379159  \n",
       "\n",
       "[5 rows x 54 columns]"
      ]
     },
     "execution_count": 3,
     "metadata": {},
     "output_type": "execute_result"
    }
   ],
   "source": [
    "data.head()"
   ]
  },
  {
   "cell_type": "code",
   "execution_count": 4,
   "metadata": {},
   "outputs": [],
   "source": [
    "Y = data['value'].values\n",
    "haq = data[(data['age_group_id'] == 2) & (data['sex_id'] == 1)]['haq'].values\n",
    "haq = haq - np.mean(haq)\n",
    "n_locs = 195\n",
    "n_ages = 23\n",
    "T = 28"
   ]
  },
  {
   "cell_type": "markdown",
   "metadata": {},
   "source": [
    "#### Build model\n",
    "\n",
    "$$ y = \\beta \\text{HAQ} + \\beta_I \\text{age-sex} + \\pi_l $$"
   ]
  },
  {
   "cell_type": "code",
   "execution_count": 6,
   "metadata": {},
   "outputs": [],
   "source": [
    "model = LME([n_locs,n_ages,2,T], 1, Y, [(haq,[True,False,False,True])], indicators=[[False,True,True,False]], \n",
    "            global_effects_indices=[0],\n",
    "            global_intercept=False, random_effects_list=[(None, [True,False,False,False])])"
   ]
  },
  {
   "cell_type": "code",
   "execution_count": 7,
   "metadata": {},
   "outputs": [
    {
     "name": "stdout",
     "output_type": "stream",
     "text": [
      "n_groups 195\n",
      "k_beta 47\n",
      "k_gamma 1\n",
      "total number of fixed effects variables 49\n",
      "fit with gamma fixed...\n",
      "finished...elapsed 2.869774103164673\n",
      "elapsed 4.717663049697876\n"
     ]
    }
   ],
   "source": [
    "import time\n",
    "t0 = time.time()\n",
    "model.optimize(inner_max_iter=200)\n",
    "print('elapsed', time.time()-t0)"
   ]
  },
  {
   "cell_type": "code",
   "execution_count": 8,
   "metadata": {},
   "outputs": [
    {
     "data": {
      "text/plain": [
       "0.00011134706760691497"
      ]
     },
     "execution_count": 8,
     "metadata": {},
     "output_type": "execute_result"
    }
   ],
   "source": [
    "lme_fit = data['lme_fit'].values\n",
    "np.linalg.norm(model.yfit_no_random - lme_fit)/ np.linalg.norm(lme_fit) "
   ]
  }
 ],
 "metadata": {
  "kernelspec": {
   "display_name": "Python 3",
   "language": "python",
   "name": "python3"
  },
  "language_info": {
   "codemirror_mode": {
    "name": "ipython",
    "version": 3
   },
   "file_extension": ".py",
   "mimetype": "text/x-python",
   "name": "python",
   "nbconvert_exporter": "python",
   "pygments_lexer": "ipython3",
   "version": "3.7.3"
  }
 },
 "nbformat": 4,
 "nbformat_minor": 2
}
