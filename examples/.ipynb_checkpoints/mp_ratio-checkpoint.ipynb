{
 "cells": [
  {
   "cell_type": "code",
   "execution_count": 1,
   "metadata": {},
   "outputs": [],
   "source": [
    "import xarray\n",
    "import numpy as np\n",
    "import sys\n",
    "sys.path.insert(0,'../code/')\n",
    "from lme_forecast_general import LME\n",
    "import pandas as pd\n",
    "import utils"
   ]
  },
  {
   "cell_type": "markdown",
   "metadata": {},
   "source": [
    "#### Read data"
   ]
  },
  {
   "cell_type": "code",
   "execution_count": 2,
   "metadata": {},
   "outputs": [],
   "source": [
    "data = pd.read_csv('./data/mp_ratio.csv')\n",
    "data = data.sort_values(by=['location_id','age_group_id','sex_id','year_id'])\n",
    "data = data.iloc[:,1:]"
   ]
  },
  {
   "cell_type": "code",
   "execution_count": 3,
   "metadata": {},
   "outputs": [
    {
     "data": {
      "text/html": [
       "<div>\n",
       "<style scoped>\n",
       "    .dataframe tbody tr th:only-of-type {\n",
       "        vertical-align: middle;\n",
       "    }\n",
       "\n",
       "    .dataframe tbody tr th {\n",
       "        vertical-align: top;\n",
       "    }\n",
       "\n",
       "    .dataframe thead th {\n",
       "        text-align: right;\n",
       "    }\n",
       "</style>\n",
       "<table border=\"1\" class=\"dataframe\">\n",
       "  <thead>\n",
       "    <tr style=\"text-align: right;\">\n",
       "      <th></th>\n",
       "      <th>age_group_id</th>\n",
       "      <th>location_id</th>\n",
       "      <th>sex_id</th>\n",
       "      <th>year_id</th>\n",
       "      <th>scenario</th>\n",
       "      <th>value</th>\n",
       "      <th>haq</th>\n",
       "      <th>intercept</th>\n",
       "      <th>lme_fit</th>\n",
       "    </tr>\n",
       "  </thead>\n",
       "  <tbody>\n",
       "    <tr>\n",
       "      <th>0</th>\n",
       "      <td>13</td>\n",
       "      <td>6</td>\n",
       "      <td>1</td>\n",
       "      <td>1990</td>\n",
       "      <td>0</td>\n",
       "      <td>-2.891245</td>\n",
       "      <td>43.258941</td>\n",
       "      <td>1</td>\n",
       "      <td>-3.332449</td>\n",
       "    </tr>\n",
       "    <tr>\n",
       "      <th>1</th>\n",
       "      <td>13</td>\n",
       "      <td>6</td>\n",
       "      <td>1</td>\n",
       "      <td>1991</td>\n",
       "      <td>0</td>\n",
       "      <td>-2.897362</td>\n",
       "      <td>44.078531</td>\n",
       "      <td>1</td>\n",
       "      <td>-3.334340</td>\n",
       "    </tr>\n",
       "    <tr>\n",
       "      <th>2</th>\n",
       "      <td>13</td>\n",
       "      <td>6</td>\n",
       "      <td>1</td>\n",
       "      <td>1992</td>\n",
       "      <td>0</td>\n",
       "      <td>-2.875354</td>\n",
       "      <td>44.913657</td>\n",
       "      <td>1</td>\n",
       "      <td>-3.336268</td>\n",
       "    </tr>\n",
       "    <tr>\n",
       "      <th>3</th>\n",
       "      <td>13</td>\n",
       "      <td>6</td>\n",
       "      <td>1</td>\n",
       "      <td>1993</td>\n",
       "      <td>0</td>\n",
       "      <td>-2.870614</td>\n",
       "      <td>45.764612</td>\n",
       "      <td>1</td>\n",
       "      <td>-3.338232</td>\n",
       "    </tr>\n",
       "    <tr>\n",
       "      <th>4</th>\n",
       "      <td>13</td>\n",
       "      <td>6</td>\n",
       "      <td>1</td>\n",
       "      <td>1994</td>\n",
       "      <td>0</td>\n",
       "      <td>-2.881733</td>\n",
       "      <td>46.631696</td>\n",
       "      <td>1</td>\n",
       "      <td>-3.340233</td>\n",
       "    </tr>\n",
       "  </tbody>\n",
       "</table>\n",
       "</div>"
      ],
      "text/plain": [
       "   age_group_id  location_id  sex_id  year_id  scenario     value        haq  \\\n",
       "0            13            6       1     1990         0 -2.891245  43.258941   \n",
       "1            13            6       1     1991         0 -2.897362  44.078531   \n",
       "2            13            6       1     1992         0 -2.875354  44.913657   \n",
       "3            13            6       1     1993         0 -2.870614  45.764612   \n",
       "4            13            6       1     1994         0 -2.881733  46.631696   \n",
       "\n",
       "   intercept   lme_fit  \n",
       "0          1 -3.332449  \n",
       "1          1 -3.334340  \n",
       "2          1 -3.336268  \n",
       "3          1 -3.338232  \n",
       "4          1 -3.340233  "
      ]
     },
     "execution_count": 3,
     "metadata": {},
     "output_type": "execute_result"
    }
   ],
   "source": [
    "data.head()"
   ]
  },
  {
   "cell_type": "code",
   "execution_count": 4,
   "metadata": {},
   "outputs": [],
   "source": [
    "Y = data['value'].values\n",
    "haq = data[(data['age_group_id'] == 13) & (data['sex_id'] == 1)]['haq'].values\n",
    "haq = haq - np.mean(haq)\n",
    "n_locs = 195\n",
    "n_ages = len(set(data['age_group_id'].values))\n",
    "T = 28"
   ]
  },
  {
   "cell_type": "markdown",
   "metadata": {},
   "source": [
    "#### Build model\n",
    "\n",
    "$$ y = \\beta \\text{HAQ} + \\beta_I \\text{age-sex} + \\pi_{0,l,a} + \\pi_{1,l,a}\\text{HAQ} $$"
   ]
  },
  {
   "cell_type": "code",
   "execution_count": 5,
   "metadata": {},
   "outputs": [],
   "source": [
    "model = LME([n_locs,n_ages,2,T], 2, Y, [(haq,[True,False,False,True])], \n",
    "            indicators=[[False,True,True,False]],\n",
    "            global_effects_indices=[0], global_intercept=False,\n",
    "            random_effects_list=[(0,[True, True, False, False]), (None,[True, True,False,False])])"
   ]
  },
  {
   "cell_type": "code",
   "execution_count": 6,
   "metadata": {},
   "outputs": [
    {
     "name": "stdout",
     "output_type": "stream",
     "text": [
      "n_groups 2340\n",
      "k_beta 25\n",
      "k_gamma 2\n",
      "total number of fixed effects variables 28\n",
      "fit with gamma fixed...\n",
      "finished...elapsed 3.6957876682281494\n",
      "elapsed 16.551188945770264\n"
     ]
    }
   ],
   "source": [
    "import time\n",
    "t0 = time.time()\n",
    "model.optimize(inner_max_iter=1000)\n",
    "print('elapsed', time.time()-t0)"
   ]
  },
  {
   "cell_type": "code",
   "execution_count": 7,
   "metadata": {},
   "outputs": [
    {
     "data": {
      "text/plain": [
       "0.007491440359318602"
      ]
     },
     "execution_count": 7,
     "metadata": {},
     "output_type": "execute_result"
    }
   ],
   "source": [
    "lme_fit = data['lme_fit'].values\n",
    "np.linalg.norm(model.yfit_no_random - lme_fit)/np.linalg.norm(lme_fit)"
   ]
  },
  {
   "cell_type": "code",
   "execution_count": 8,
   "metadata": {},
   "outputs": [],
   "source": [
    "model.postVarGlobal()\n",
    "model.postVarRandom()"
   ]
  },
  {
   "cell_type": "code",
   "execution_count": 9,
   "metadata": {},
   "outputs": [],
   "source": [
    "beta_samples, u_samples = model.draw()"
   ]
  },
  {
   "cell_type": "code",
   "execution_count": 10,
   "metadata": {},
   "outputs": [],
   "source": [
    "location_ids = sorted(set(data['location_id'].values))\n",
    "age_ids = sorted(set(data['age_group_id'].values))\n",
    "coord_dict = {'location_id':location_ids, 'age_group_id': age_ids}\n",
    "dataset = utils.saveDraws(beta_samples[0,:].reshape((1,-1)),u_samples,['haq'], \n",
    "                          [['location_id','age_group_id'], ['location_id','age_group_id']], \n",
    "                          ['pi_location_age','pi_haq_slope_location_age'], coord_dict)"
   ]
  },
  {
   "cell_type": "code",
   "execution_count": 11,
   "metadata": {},
   "outputs": [
    {
     "data": {
      "text/plain": [
       "<xarray.Dataset>\n",
       "Dimensions:                    (age_group_id: 12, cov: 1, draw: 10, location_id: 195)\n",
       "Coordinates:\n",
       "  * location_id                (location_id) int64 6 7 8 10 ... 385 422 435 522\n",
       "  * age_group_id               (age_group_id) int64 13 14 15 16 ... 30 31 32 235\n",
       "  * draw                       (draw) int64 1 2 3 4 5 6 7 8 9 10\n",
       "  * cov                        (cov) <U3 'haq'\n",
       "Data variables:\n",
       "    pi_location_age            (location_id, age_group_id, draw) float64 -0.02809 ... 0.0009205\n",
       "    pi_haq_slope_location_age  (location_id, age_group_id, draw) float64 0.6678 ... -0.3904\n",
       "    beta_global                (cov, draw) float64 -0.002608 ... -0.002358"
      ]
     },
     "execution_count": 11,
     "metadata": {},
     "output_type": "execute_result"
    }
   ],
   "source": [
    "dataset"
   ]
  },
  {
   "cell_type": "code",
   "execution_count": null,
   "metadata": {},
   "outputs": [],
   "source": []
  }
 ],
 "metadata": {
  "kernelspec": {
   "display_name": "Python 3",
   "language": "python",
   "name": "python3"
  },
  "language_info": {
   "codemirror_mode": {
    "name": "ipython",
    "version": 3
   },
   "file_extension": ".py",
   "mimetype": "text/x-python",
   "name": "python",
   "nbconvert_exporter": "python",
   "pygments_lexer": "ipython3",
   "version": "3.7.3"
  }
 },
 "nbformat": 4,
 "nbformat_minor": 2
}
