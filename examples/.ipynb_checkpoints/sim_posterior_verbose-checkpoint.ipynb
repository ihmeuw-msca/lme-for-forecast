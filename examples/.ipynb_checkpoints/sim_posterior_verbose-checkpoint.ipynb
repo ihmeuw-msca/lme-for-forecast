{
 "cells": [
  {
   "cell_type": "code",
   "execution_count": 1,
   "metadata": {},
   "outputs": [],
   "source": [
    "import numpy as np\n",
    "import matplotlib.pyplot as plt\n",
    "from lme import LME\n",
    "import copy"
   ]
  },
  {
   "cell_type": "code",
   "execution_count": 2,
   "metadata": {},
   "outputs": [],
   "source": [
    "np.random.seed(127)\n",
    "n_groups = 20\n",
    "n = 40\n",
    "N = n*n_groups\n",
    "k_beta = 2\n",
    "X = np.insert(np.random.randn(N, k_beta),0,1,axis=1)\n",
    "beta_true = [-.5,1., .5]\n",
    "gamma_true = 0.1\n",
    "u = np.random.randn(n_groups)*np.sqrt(gamma_true)\n",
    "delta_true = .1\n",
    "Y_true = X.dot(beta_true) + np.kron(np.identity(n_groups), np.ones((n,1))).dot(u)\n",
    "Y = Y_true + np.random.randn(N)*np.sqrt(delta_true)"
   ]
  },
  {
   "cell_type": "markdown",
   "metadata": {},
   "source": [
    "#### The model\n",
    "$$ y =  X\\beta + \\pi_{l} $$"
   ]
  },
  {
   "cell_type": "code",
   "execution_count": 8,
   "metadata": {},
   "outputs": [
    {
     "name": "stdout",
     "output_type": "stream",
     "text": [
      "n_groups 20\n",
      "k_beta 3\n",
      "k_gamma 1\n",
      "total number of fixed effects variables 5\n",
      "elapsed 0.46685791015625\n"
     ]
    }
   ],
   "source": [
    "model = LME([n_groups, n],1,Y, {'cov1':(X[:,1],[True, True]), 'cov2':(X[:,2],[True, True])}, {}, \n",
    "            ['cov1', 'cov2'], True,{'intercept': [True,False]})\n",
    "import time\n",
    "t0 = time.time()\n",
    "#uprior = np.array([[-float('inf')]*5, [float('inf')]*5])\n",
    "#uprior[:,3] = 0.0\n",
    "#uprior[0,-1] = 1e-8\n",
    "model.optimize(inner_max_iter=100,outer_max_iter=1,share_obs_std=True)\n",
    "print('elapsed',time.time()-t0)"
   ]
  },
  {
   "cell_type": "code",
   "execution_count": 9,
   "metadata": {},
   "outputs": [
    {
     "name": "stdout",
     "output_type": "stream",
     "text": [
      "[-0.54887417  1.0012523   0.48747892]\n",
      "[0.12856626]\n",
      "[0.1075671]\n"
     ]
    }
   ],
   "source": [
    "print(model.beta_soln)\n",
    "print(model.gamma_soln)\n",
    "print(model.delta_soln)"
   ]
  },
  {
   "cell_type": "code",
   "execution_count": 10,
   "metadata": {},
   "outputs": [],
   "source": [
    "model.postVarRandom()"
   ]
  },
  {
   "cell_type": "code",
   "execution_count": 11,
   "metadata": {},
   "outputs": [],
   "source": [
    "model.postVarGlobal()"
   ]
  },
  {
   "cell_type": "markdown",
   "metadata": {},
   "source": [
    "#### check posterior covariance"
   ]
  },
  {
   "cell_type": "code",
   "execution_count": 9,
   "metadata": {},
   "outputs": [
    {
     "name": "stdout",
     "output_type": "stream",
     "text": [
      "elapsed 95.24394178390503s 1.00\n"
     ]
    }
   ],
   "source": [
    "import time\n",
    "t0 = time.time()\n",
    "beta_samples, gamma_samples = model.sampleGlobalWithLimeTr(sample_size=1000)\n",
    "print('elapsed', time.time()-t0)"
   ]
  },
  {
   "cell_type": "code",
   "execution_count": 10,
   "metadata": {},
   "outputs": [
    {
     "data": {
      "text/plain": [
       "array([-0.5526187 ,  1.00087554,  0.48760659])"
      ]
     },
     "execution_count": 10,
     "metadata": {},
     "output_type": "execute_result"
    }
   ],
   "source": [
    "np.mean(beta_samples, axis=0)"
   ]
  },
  {
   "cell_type": "code",
   "execution_count": 11,
   "metadata": {},
   "outputs": [
    {
     "data": {
      "text/plain": [
       "array([-0.54887417,  1.0012523 ,  0.48747892])"
      ]
     },
     "execution_count": 11,
     "metadata": {},
     "output_type": "execute_result"
    }
   ],
   "source": [
    "model.beta_soln"
   ]
  },
  {
   "cell_type": "code",
   "execution_count": 12,
   "metadata": {},
   "outputs": [
    {
     "data": {
      "text/plain": [
       "array([[ 6.12038446e-03,  2.91145105e-05, -3.31901267e-05],\n",
       "       [ 2.91145105e-05,  1.43712261e-04,  1.86102825e-06],\n",
       "       [-3.31901267e-05,  1.86102825e-06,  1.36795081e-04]])"
      ]
     },
     "execution_count": 12,
     "metadata": {},
     "output_type": "execute_result"
    }
   ],
   "source": [
    "np.cov(np.transpose(beta_samples))"
   ]
  },
  {
   "cell_type": "code",
   "execution_count": 12,
   "metadata": {},
   "outputs": [
    {
     "data": {
      "text/plain": [
       "array([[ 1.36302469e-04, -8.03205702e-06,  1.33787997e-05],\n",
       "       [-8.03205702e-06,  1.40822479e-04,  2.51798280e-06],\n",
       "       [ 1.33787997e-05,  2.51798280e-06,  1.32025590e-04]])"
      ]
     },
     "execution_count": 12,
     "metadata": {},
     "output_type": "execute_result"
    }
   ],
   "source": [
    "model.var_beta"
   ]
  },
  {
   "cell_type": "code",
   "execution_count": null,
   "metadata": {},
   "outputs": [],
   "source": []
  }
 ],
 "metadata": {
  "kernelspec": {
   "display_name": "Python 3",
   "language": "python",
   "name": "python3"
  },
  "language_info": {
   "codemirror_mode": {
    "name": "ipython",
    "version": 3
   },
   "file_extension": ".py",
   "mimetype": "text/x-python",
   "name": "python",
   "nbconvert_exporter": "python",
   "pygments_lexer": "ipython3",
   "version": "3.7.3"
  }
 },
 "nbformat": 4,
 "nbformat_minor": 2
}
