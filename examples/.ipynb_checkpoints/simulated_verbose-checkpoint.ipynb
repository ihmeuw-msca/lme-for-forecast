{
 "cells": [
  {
   "cell_type": "code",
   "execution_count": 1,
   "metadata": {},
   "outputs": [],
   "source": [
    "import numpy as np\n",
    "from lme.lme_forecast_verbose import LME\n",
    "import lme.utils as utils"
   ]
  },
  {
   "cell_type": "markdown",
   "metadata": {},
   "source": [
    "#### Simulate data"
   ]
  },
  {
   "cell_type": "code",
   "execution_count": 3,
   "metadata": {},
   "outputs": [
    {
     "name": "stdout",
     "output_type": "stream",
     "text": [
      "(3200,)\n",
      "[1.10618652 0.5135996  0.50696761]\n"
     ]
    }
   ],
   "source": [
    "n_loc = 20\n",
    "n_age = 8\n",
    "n_sex = 2\n",
    "n_year = 10\n",
    "N = n_loc*n_age*n_sex*n_year\n",
    "dimensions = [n_loc, n_age, n_sex, n_year]\n",
    "np.random.seed(127)\n",
    "X = np.insert(np.random.randn(N,2),0,1,axis=1)\n",
    "gamma_true = 0.1\n",
    "u_true = np.random.randn(n_loc)*np.sqrt(gamma_true)\n",
    "v_true = np.random.randn(n_loc*n_age)*np.sqrt(gamma_true)\n",
    "beta_true = [1., .5, .5]\n",
    "cov = np.random.randn(n_age)\n",
    "cov_dim = [1, n_age, 1, 1]\n",
    "cov_dim_bool = [False, True, False, False]\n",
    "Z = np.tile(np.kron(np.identity(n_age),np.ones((n_sex*n_year,1))),(n_loc,1))\n",
    "Y_true = X.dot(beta_true) + np.kron(np.identity(n_loc),np.ones((n_year*n_sex*n_age,1))).dot(u_true) \\\n",
    "   + np.kron(np.identity(n_loc*n_age),np.ones((n_sex*n_year,1))).dot(v_true)*(Z.dot(cov))\n",
    "delta_true = .05\n",
    "Y = Y_true + np.random.randn(N)*np.sqrt(delta_true)\n",
    "print(Y.shape)\n",
    "Y2 = X.dot(beta_true) + np.random.randn(N)*np.sqrt(delta_true)\n",
    "print(np.linalg.solve(np.transpose(X).dot(X),np.transpose(X).dot(Y)))"
   ]
  },
  {
   "cell_type": "markdown",
   "metadata": {},
   "source": [
    "#### Build Model\n",
    "$$ y = \\beta_0 + X\\beta + \\pi_l + \\text{cov}\\pi_{l,a} $$"
   ]
  },
  {
   "cell_type": "code",
   "execution_count": 5,
   "metadata": {},
   "outputs": [],
   "source": [
    "model = LME(dimensions, 1, Y, {'cov1':(X[:,1],[True]*4), 'cov2':(X[:,2], [True]*4), 'cov3':(cov, cov_dim_bool)}, \n",
    "            {}, ['cov1','cov2'], global_intercept=True, \n",
    "            random_effects={'intercept':[True,False,False,False],'cov3':[True,True,False,False]})"
   ]
  },
  {
   "cell_type": "code",
   "execution_count": 6,
   "metadata": {},
   "outputs": [
    {
     "name": "stdout",
     "output_type": "stream",
     "text": [
      "n_groups 20\n",
      "k_beta 3\n",
      "k_gamma 9\n",
      "total number of fixed effects variables 13\n",
      "fit with gamma fixed...\n",
      "finished...elapsed 0.6393532752990723\n"
     ]
    }
   ],
   "source": [
    "model.optimize()"
   ]
  },
  {
   "cell_type": "code",
   "execution_count": 7,
   "metadata": {},
   "outputs": [
    {
     "data": {
      "text/plain": [
       "array([1.12947817, 0.50012956, 0.50678926])"
      ]
     },
     "execution_count": 7,
     "metadata": {},
     "output_type": "execute_result"
    }
   ],
   "source": [
    "model.beta_soln"
   ]
  },
  {
   "cell_type": "code",
   "execution_count": 8,
   "metadata": {},
   "outputs": [
    {
     "data": {
      "text/plain": [
       "array([0.08051535, 0.0972084 , 0.0972084 , 0.0972084 , 0.0972084 ,\n",
       "       0.0972084 , 0.0972084 , 0.0972084 , 0.0972084 ])"
      ]
     },
     "execution_count": 8,
     "metadata": {},
     "output_type": "execute_result"
    }
   ],
   "source": [
    "model.gamma_soln"
   ]
  },
  {
   "cell_type": "code",
   "execution_count": 9,
   "metadata": {},
   "outputs": [
    {
     "data": {
      "text/plain": [
       "array([0.04971155])"
      ]
     },
     "execution_count": 9,
     "metadata": {},
     "output_type": "execute_result"
    }
   ],
   "source": [
    "model.delta_soln"
   ]
  },
  {
   "cell_type": "code",
   "execution_count": 10,
   "metadata": {},
   "outputs": [],
   "source": [
    "model.postVarGlobal()\n",
    "model.postVarRandom()"
   ]
  },
  {
   "cell_type": "code",
   "execution_count": 11,
   "metadata": {},
   "outputs": [],
   "source": [
    "beta_samples, u_samples = model.draw()"
   ]
  },
  {
   "cell_type": "code",
   "execution_count": 12,
   "metadata": {},
   "outputs": [],
   "source": [
    "dataset = utils.saveDraws(beta_samples, u_samples, ['intercept','x1','x2'], [['location'], ['location','age']],\n",
    "                ['pi_location', 'pi_location_age'])"
   ]
  },
  {
   "cell_type": "code",
   "execution_count": 13,
   "metadata": {},
   "outputs": [
    {
     "data": {
      "text/plain": [
       "<xarray.Dataset>\n",
       "Dimensions:          (age: 8, cov: 3, draw: 10, location: 20)\n",
       "Coordinates:\n",
       "  * location         (location) int64 1 2 3 4 5 6 7 8 ... 14 15 16 17 18 19 20\n",
       "  * draw             (draw) int64 1 2 3 4 5 6 7 8 9 10\n",
       "  * age              (age) int64 1 2 3 4 5 6 7 8\n",
       "  * cov              (cov) <U9 'intercept' 'x1' 'x2'\n",
       "Data variables:\n",
       "    pi_location      (location, draw) float64 1.113 1.17 1.218 ... 0.4043 0.3355\n",
       "    pi_location_age  (location, age, draw) float64 3.343 3.438 ... 2.137 1.907\n",
       "    beta_global      (cov, draw) float64 1.113 1.058 1.056 ... 0.507 0.5083"
      ]
     },
     "execution_count": 13,
     "metadata": {},
     "output_type": "execute_result"
    }
   ],
   "source": [
    "dataset"
   ]
  },
  {
   "cell_type": "code",
   "execution_count": null,
   "metadata": {},
   "outputs": [],
   "source": []
  }
 ],
 "metadata": {
  "kernelspec": {
   "display_name": "Python 3",
   "language": "python",
   "name": "python3"
  },
  "language_info": {
   "codemirror_mode": {
    "name": "ipython",
    "version": 3
   },
   "file_extension": ".py",
   "mimetype": "text/x-python",
   "name": "python",
   "nbconvert_exporter": "python",
   "pygments_lexer": "ipython3",
   "version": "3.7.3"
  }
 },
 "nbformat": 4,
 "nbformat_minor": 2
}
