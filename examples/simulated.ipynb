{
 "cells": [
  {
   "cell_type": "code",
   "execution_count": 2,
   "metadata": {},
   "outputs": [],
   "source": [
    "import xarray\n",
    "import sys\n",
    "sys.path.insert(0,'../code/')\n",
    "import numpy as np\n",
    "from lme_forecast_general import LME"
   ]
  },
  {
   "cell_type": "markdown",
   "metadata": {},
   "source": [
    "#### Simulate data"
   ]
  },
  {
   "cell_type": "code",
   "execution_count": 3,
   "metadata": {},
   "outputs": [
    {
     "name": "stdout",
     "output_type": "stream",
     "text": [
      "(3200,)\n",
      "[1.10618652 0.5135996  0.50696761]\n"
     ]
    }
   ],
   "source": [
    "n_loc = 20\n",
    "n_age = 8\n",
    "n_sex = 2\n",
    "n_year = 10\n",
    "N = n_loc*n_age*n_sex*n_year\n",
    "dimensions = [n_loc, n_age, n_sex, n_year]\n",
    "np.random.seed(127)\n",
    "X = np.insert(np.random.randn(N,2),0,1,axis=1)\n",
    "gamma_true = 0.1\n",
    "u_true = np.random.randn(n_loc)*np.sqrt(gamma_true)\n",
    "v_true = np.random.randn(n_loc*n_age)*np.sqrt(gamma_true)\n",
    "beta_true = [1., .5, .5]\n",
    "cov = np.random.randn(n_age)\n",
    "cov_dim = [1, n_age, 1, 1]\n",
    "Z = np.tile(np.kron(np.identity(n_age),np.ones((n_sex*n_year,1))),(n_loc,1))\n",
    "Y_true = X.dot(beta_true) + np.kron(np.identity(n_loc),np.ones((n_year*n_sex*n_age,1))).dot(u_true) \\\n",
    "   + np.kron(np.identity(n_loc*n_age),np.ones((n_sex*n_year,1))).dot(v_true)*(Z.dot(cov))\n",
    "delta_true = .05\n",
    "Y = Y_true + np.random.randn(N)*np.sqrt(delta_true)\n",
    "print(Y.shape)\n",
    "Y2 = X.dot(beta_true) + np.random.randn(N)*np.sqrt(delta_true)\n",
    "print(np.linalg.solve(np.transpose(X).dot(X),np.transpose(X).dot(Y)))"
   ]
  },
  {
   "cell_type": "markdown",
   "metadata": {},
   "source": [
    "#### Build Model\n",
    "$$ y = \\beta_0 + X\\beta + \\pi_l + \\text{cov}\\pi_{l,a} $$"
   ]
  },
  {
   "cell_type": "code",
   "execution_count": 4,
   "metadata": {},
   "outputs": [],
   "source": [
    "model = LME(dimensions, 1, Y, [(X[:,1],dimensions), (X[:,2], dimensions), (cov, cov_dim)], \n",
    "            [], [0,1], [(2,[n_age,1,1])], global_intercept=True, ran_intercepts=[[1,1,1]])"
   ]
  },
  {
   "cell_type": "code",
   "execution_count": 5,
   "metadata": {},
   "outputs": [
    {
     "name": "stdout",
     "output_type": "stream",
     "text": [
      "n_groups 20\n",
      "k_beta 3\n",
      "k_gamma 9\n",
      "total number of fixed effects variables 13\n",
      "fit with gamma fixed...\n",
      "finished...elapsed 0.6485962867736816\n"
     ]
    }
   ],
   "source": [
    "model.optimize()"
   ]
  },
  {
   "cell_type": "code",
   "execution_count": 6,
   "metadata": {},
   "outputs": [
    {
     "data": {
      "text/plain": [
       "array([1.12947817, 0.50012956, 0.50678926])"
      ]
     },
     "execution_count": 6,
     "metadata": {},
     "output_type": "execute_result"
    }
   ],
   "source": [
    "model.beta_soln"
   ]
  },
  {
   "cell_type": "code",
   "execution_count": 7,
   "metadata": {},
   "outputs": [
    {
     "data": {
      "text/plain": [
       "array([0.08051535, 0.0972084 , 0.0972084 , 0.0972084 , 0.0972084 ,\n",
       "       0.0972084 , 0.0972084 , 0.0972084 , 0.0972084 ])"
      ]
     },
     "execution_count": 7,
     "metadata": {},
     "output_type": "execute_result"
    }
   ],
   "source": [
    "model.gamma_soln"
   ]
  },
  {
   "cell_type": "code",
   "execution_count": 8,
   "metadata": {},
   "outputs": [
    {
     "data": {
      "text/plain": [
       "array([0.04971155])"
      ]
     },
     "execution_count": 8,
     "metadata": {},
     "output_type": "execute_result"
    }
   ],
   "source": [
    "model.delta_soln"
   ]
  }
 ],
 "metadata": {
  "kernelspec": {
   "display_name": "Python 3",
   "language": "python",
   "name": "python3"
  },
  "language_info": {
   "codemirror_mode": {
    "name": "ipython",
    "version": 3
   },
   "file_extension": ".py",
   "mimetype": "text/x-python",
   "name": "python",
   "nbconvert_exporter": "python",
   "pygments_lexer": "ipython3",
   "version": "3.7.3"
  }
 },
 "nbformat": 4,
 "nbformat_minor": 2
}
