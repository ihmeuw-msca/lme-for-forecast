{
 "cells": [
  {
   "cell_type": "code",
   "execution_count": 1,
   "metadata": {},
   "outputs": [],
   "source": [
    "import numpy as np\n",
    "import matplotlib.pyplot as plt\n",
    "import sys\n",
    "sys.path.insert(0,'../code/')\n",
    "from lme_forecast_general import LME\n",
    "import copy"
   ]
  },
  {
   "cell_type": "code",
   "execution_count": 2,
   "metadata": {},
   "outputs": [],
   "source": [
    "np.random.seed(127)\n",
    "n_groups = 20\n",
    "n = 40\n",
    "N = n*n_groups\n",
    "k_beta = 2\n",
    "X = np.insert(np.random.randn(N, k_beta),0,1,axis=1)\n",
    "beta_true = [-.5,1., .5]\n",
    "gamma_true = 0.1\n",
    "u = np.random.randn(n_groups)*np.sqrt(gamma_true)\n",
    "delta_true = .1\n",
    "Y_true = X.dot(beta_true) + np.kron(np.identity(n_groups), np.ones((n,1))).dot(u)\n",
    "Y = Y_true + np.random.randn(N)*np.sqrt(delta_true)"
   ]
  },
  {
   "cell_type": "markdown",
   "metadata": {},
   "source": [
    "#### The model\n",
    "$$ y =  X\\beta + \\pi_{l} $$"
   ]
  },
  {
   "cell_type": "code",
   "execution_count": 3,
   "metadata": {},
   "outputs": [
    {
     "name": "stdout",
     "output_type": "stream",
     "text": [
      "n_groups 20\n",
      "k_beta 3\n",
      "k_gamma 1\n",
      "total number of fixed effects variables 5\n",
      "fit with gamma fixed...\n",
      "finished...elapsed 0.19281601905822754\n",
      "elapsed 0.42158007621765137\n"
     ]
    }
   ],
   "source": [
    "model = LME([n_groups, n],1,Y, [(X[:,1],[True, True]), (X[:,2],[True, True])], [], [0,1], [], True,[[False]])\n",
    "import time\n",
    "t0 = time.time()\n",
    "#uprior = np.array([[-float('inf')]*5, [float('inf')]*5])\n",
    "#uprior[:,3] = 0.0\n",
    "#uprior[0,-1] = 1e-8\n",
    "model.optimize(inner_max_iter=100,outer_max_iter=1,share_obs_std=True)\n",
    "print('elapsed',time.time()-t0)"
   ]
  },
  {
   "cell_type": "code",
   "execution_count": 4,
   "metadata": {},
   "outputs": [
    {
     "name": "stdout",
     "output_type": "stream",
     "text": [
      "[-0.54887417  1.0012523   0.48747892]\n",
      "[0.12856626]\n",
      "[0.1075671]\n"
     ]
    }
   ],
   "source": [
    "print(model.beta_soln)\n",
    "print(model.gamma_soln)\n",
    "print(model.delta_soln)"
   ]
  },
  {
   "cell_type": "code",
   "execution_count": 5,
   "metadata": {},
   "outputs": [],
   "source": [
    "model.postVarRandom()"
   ]
  },
  {
   "cell_type": "code",
   "execution_count": 6,
   "metadata": {},
   "outputs": [],
   "source": [
    "model.postVarGlobal()"
   ]
  },
  {
   "cell_type": "markdown",
   "metadata": {},
   "source": [
    "#### check posterior covariance"
   ]
  },
  {
   "cell_type": "code",
   "execution_count": null,
   "metadata": {},
   "outputs": [
    {
     "name": "stdout",
     "output_type": "stream",
     "text": [
      "sampling solution progress 0.76\r"
     ]
    }
   ],
   "source": [
    "beta_samples, gamma_samples = model.sampleGlobalWithLimeTr(sample_size=2000)"
   ]
  },
  {
   "cell_type": "code",
   "execution_count": null,
   "metadata": {},
   "outputs": [],
   "source": [
    "np.mean(beta_samples, axis=0)"
   ]
  },
  {
   "cell_type": "code",
   "execution_count": null,
   "metadata": {},
   "outputs": [],
   "source": [
    "model.beta_soln"
   ]
  },
  {
   "cell_type": "code",
   "execution_count": null,
   "metadata": {},
   "outputs": [],
   "source": [
    "np.cov(np.transpose(beta_samples))"
   ]
  },
  {
   "cell_type": "code",
   "execution_count": null,
   "metadata": {},
   "outputs": [],
   "source": [
    "model.var_beta"
   ]
  },
  {
   "cell_type": "code",
   "execution_count": null,
   "metadata": {},
   "outputs": [],
   "source": [
    "beta_samples"
   ]
  },
  {
   "cell_type": "code",
   "execution_count": null,
   "metadata": {},
   "outputs": [],
   "source": []
  }
 ],
 "metadata": {
  "kernelspec": {
   "display_name": "Python 3",
   "language": "python",
   "name": "python3"
  },
  "language_info": {
   "codemirror_mode": {
    "name": "ipython",
    "version": 3
   },
   "file_extension": ".py",
   "mimetype": "text/x-python",
   "name": "python",
   "nbconvert_exporter": "python",
   "pygments_lexer": "ipython3",
   "version": "3.7.3"
  }
 },
 "nbformat": 4,
 "nbformat_minor": 2
}
