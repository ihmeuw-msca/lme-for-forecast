{
 "cells": [
  {
   "cell_type": "code",
   "execution_count": 1,
   "metadata": {},
   "outputs": [],
   "source": [
    "import numpy as np\n",
    "import matplotlib.pyplot as plt\n",
    "import sys\n",
    "sys.path.insert(0,'../code/')\n",
    "from lme_forecast_general import LME\n",
    "import copy"
   ]
  },
  {
   "cell_type": "code",
   "execution_count": 2,
   "metadata": {},
   "outputs": [],
   "source": [
    "np.random.seed(127)\n",
    "n_groups = 20\n",
    "n = 40\n",
    "N = n*n_groups\n",
    "k_beta = 2\n",
    "X = np.insert(np.random.randn(N, k_beta),0,1,axis=1)\n",
    "beta_true = [-.5,1., .5]\n",
    "gamma_true = 0.1\n",
    "u = np.random.randn(n_groups)*np.sqrt(gamma_true)\n",
    "delta_true = .1\n",
    "Y_true = X.dot(beta_true) + np.kron(np.identity(n_groups), np.ones((n,1))).dot(u)\n",
    "Y = Y_true + np.random.randn(N)*np.sqrt(delta_true)"
   ]
  },
  {
   "cell_type": "markdown",
   "metadata": {},
   "source": [
    "#### The model\n",
    "$$ y =  X\\beta + \\pi_{l} $$"
   ]
  },
  {
   "cell_type": "code",
   "execution_count": 3,
   "metadata": {},
   "outputs": [
    {
     "name": "stdout",
     "output_type": "stream",
     "text": [
      "n_groups 20\n",
      "k_beta 3\n",
      "k_gamma 1\n",
      "total number of fixed effects variables 5\n",
      "fit with gamma fixed...\n",
      "finished...elapsed 0.19281601905822754\n",
      "elapsed 0.42158007621765137\n"
     ]
    }
   ],
   "source": [
    "model = LME([n_groups, n],1,Y, [(X[:,1],[True, True]), (X[:,2],[True, True])], [], [0,1], [], True,[[False]])\n",
    "import time\n",
    "t0 = time.time()\n",
    "#uprior = np.array([[-float('inf')]*5, [float('inf')]*5])\n",
    "#uprior[:,3] = 0.0\n",
    "#uprior[0,-1] = 1e-8\n",
    "model.optimize(inner_max_iter=100,outer_max_iter=1,share_obs_std=True)\n",
    "print('elapsed',time.time()-t0)"
   ]
  },
  {
   "cell_type": "code",
   "execution_count": 4,
   "metadata": {},
   "outputs": [
    {
     "name": "stdout",
     "output_type": "stream",
     "text": [
      "[-0.54887417  1.0012523   0.48747892]\n",
      "[0.12856626]\n",
      "[0.1075671]\n"
     ]
    }
   ],
   "source": [
    "print(model.beta_soln)\n",
    "print(model.gamma_soln)\n",
    "print(model.delta_soln)"
   ]
  },
  {
   "cell_type": "code",
   "execution_count": 5,
   "metadata": {},
   "outputs": [],
   "source": [
    "model.postVarRandom()"
   ]
  },
  {
   "cell_type": "code",
   "execution_count": 6,
   "metadata": {},
   "outputs": [],
   "source": [
    "model.postVarGlobal()"
   ]
  },
  {
   "cell_type": "markdown",
   "metadata": {},
   "source": [
    "#### check posterior covariance"
   ]
  },
  {
   "cell_type": "code",
   "execution_count": 7,
   "metadata": {},
   "outputs": [
    {
     "name": "stdout",
     "output_type": "stream",
     "text": [
      "sampling solution progress 1.00\r"
     ]
    }
   ],
   "source": [
    "beta_samples, gamma_samples = model.sampleGlobalWithLimeTr(sample_size=2000)"
   ]
  },
  {
   "cell_type": "code",
   "execution_count": 8,
   "metadata": {},
   "outputs": [
    {
     "data": {
      "text/plain": [
       "array([-0.1071966 ,  0.9949025 ,  0.48082104])"
      ]
     },
     "execution_count": 8,
     "metadata": {},
     "output_type": "execute_result"
    }
   ],
   "source": [
    "np.mean(beta_samples, axis=0)"
   ]
  },
  {
   "cell_type": "code",
   "execution_count": 9,
   "metadata": {},
   "outputs": [
    {
     "data": {
      "text/plain": [
       "array([-0.54887417,  1.0012523 ,  0.48747892])"
      ]
     },
     "execution_count": 9,
     "metadata": {},
     "output_type": "execute_result"
    }
   ],
   "source": [
    "model.beta_soln"
   ]
  },
  {
   "cell_type": "code",
   "execution_count": 10,
   "metadata": {},
   "outputs": [
    {
     "data": {
      "text/plain": [
       "array([[3.01846679e+01, 6.60409524e-04, 1.25895560e-02],\n",
       "       [6.60409524e-04, 9.57901043e-02, 8.53659203e-03],\n",
       "       [1.25895560e-02, 8.53659203e-03, 9.96182615e-02]])"
      ]
     },
     "execution_count": 10,
     "metadata": {},
     "output_type": "execute_result"
    }
   ],
   "source": [
    "np.cov(np.transpose(beta_samples))"
   ]
  },
  {
   "cell_type": "code",
   "execution_count": 11,
   "metadata": {},
   "outputs": [
    {
     "data": {
      "text/plain": [
       "array([[ 6.56466994e-03, -8.32287632e-06,  1.37426772e-05],\n",
       "       [-8.32287632e-06,  1.45707731e-04,  2.48645167e-06],\n",
       "       [ 1.37426772e-05,  2.48645167e-06,  1.35558966e-04]])"
      ]
     },
     "execution_count": 11,
     "metadata": {},
     "output_type": "execute_result"
    }
   ],
   "source": [
    "model.var_beta"
   ]
  },
  {
   "cell_type": "code",
   "execution_count": 12,
   "metadata": {},
   "outputs": [
    {
     "data": {
      "text/plain": [
       "array([[-0.51973627,  1.00423075,  0.48831705],\n",
       "       [-0.47806479,  1.00487552,  0.46147856],\n",
       "       [-0.62453795,  1.00850441,  0.48172318],\n",
       "       ...,\n",
       "       [-0.1155079 ,  0.6123616 ,  0.88473721],\n",
       "       [-0.97277461,  0.58901233,  0.88585649],\n",
       "       [-0.65440068,  1.07054433,  0.58185424]])"
      ]
     },
     "execution_count": 12,
     "metadata": {},
     "output_type": "execute_result"
    }
   ],
   "source": [
    "beta_samples"
   ]
  },
  {
   "cell_type": "code",
   "execution_count": null,
   "metadata": {},
   "outputs": [],
   "source": []
  }
 ],
 "metadata": {
  "kernelspec": {
   "display_name": "Python 3",
   "language": "python",
   "name": "python3"
  },
  "language_info": {
   "codemirror_mode": {
    "name": "ipython",
    "version": 3
   },
   "file_extension": ".py",
   "mimetype": "text/x-python",
   "name": "python",
   "nbconvert_exporter": "python",
   "pygments_lexer": "ipython3",
   "version": "3.7.3"
  }
 },
 "nbformat": 4,
 "nbformat_minor": 2
}
