{
 "cells": [
  {
   "cell_type": "code",
   "execution_count": 1,
   "metadata": {},
   "outputs": [
    {
     "name": "stderr",
     "output_type": "stream",
     "text": [
      "/Users/jizezhang/miniconda3/lib/python3.6/site-packages/dask/config.py:168: YAMLLoadWarning: calling yaml.load() without Loader=... is deprecated, as the default Loader is unsafe. Please read https://msg.pyyaml.org/load for full details.\n",
      "  data = yaml.load(f.read()) or {}\n",
      "/Users/jizezhang/miniconda3/lib/python3.6/site-packages/distributed/config.py:20: YAMLLoadWarning: calling yaml.load() without Loader=... is deprecated, as the default Loader is unsafe. Please read https://msg.pyyaml.org/load for full details.\n",
      "  defaults = yaml.load(f)\n"
     ]
    }
   ],
   "source": [
    "import numpy as np\n",
    "from lme import LME\n",
    "import pandas as pd\n",
    "import copy"
   ]
  },
  {
   "cell_type": "markdown",
   "metadata": {},
   "source": [
    "#### Read data"
   ]
  },
  {
   "cell_type": "code",
   "execution_count": 2,
   "metadata": {},
   "outputs": [],
   "source": [
    "data = pd.read_csv('./data/tb_prevalence.csv')\n",
    "data = data.sort_values(by=['location_id','age_group_id','sex_id','year_id'])\n",
    "data = data.iloc[:,1:]"
   ]
  },
  {
   "cell_type": "code",
   "execution_count": 3,
   "metadata": {},
   "outputs": [
    {
     "data": {
      "text/plain": [
       "(251160, 54)"
      ]
     },
     "execution_count": 3,
     "metadata": {},
     "output_type": "execute_result"
    }
   ],
   "source": [
    "data.shape"
   ]
  },
  {
   "cell_type": "code",
   "execution_count": 4,
   "metadata": {},
   "outputs": [],
   "source": [
    "data_std = pd.read_csv('./data/20190927_tb_latent_std.csv')"
   ]
  },
  {
   "cell_type": "code",
   "execution_count": 5,
   "metadata": {},
   "outputs": [
    {
     "data": {
      "text/html": [
       "<div>\n",
       "<style scoped>\n",
       "    .dataframe tbody tr th:only-of-type {\n",
       "        vertical-align: middle;\n",
       "    }\n",
       "\n",
       "    .dataframe tbody tr th {\n",
       "        vertical-align: top;\n",
       "    }\n",
       "\n",
       "    .dataframe thead th {\n",
       "        text-align: right;\n",
       "    }\n",
       "</style>\n",
       "<table border=\"1\" class=\"dataframe\">\n",
       "  <thead>\n",
       "    <tr style=\"text-align: right;\">\n",
       "      <th></th>\n",
       "      <th>location_id</th>\n",
       "      <th>year_id</th>\n",
       "      <th>age_group_id</th>\n",
       "      <th>sex_id</th>\n",
       "      <th>std</th>\n",
       "    </tr>\n",
       "  </thead>\n",
       "  <tbody>\n",
       "    <tr>\n",
       "      <th>0</th>\n",
       "      <td>1</td>\n",
       "      <td>1990</td>\n",
       "      <td>2</td>\n",
       "      <td>1</td>\n",
       "      <td>0.019341</td>\n",
       "    </tr>\n",
       "    <tr>\n",
       "      <th>1</th>\n",
       "      <td>1</td>\n",
       "      <td>1990</td>\n",
       "      <td>2</td>\n",
       "      <td>2</td>\n",
       "      <td>0.018662</td>\n",
       "    </tr>\n",
       "    <tr>\n",
       "      <th>2</th>\n",
       "      <td>1</td>\n",
       "      <td>1990</td>\n",
       "      <td>3</td>\n",
       "      <td>1</td>\n",
       "      <td>0.019100</td>\n",
       "    </tr>\n",
       "    <tr>\n",
       "      <th>3</th>\n",
       "      <td>1</td>\n",
       "      <td>1990</td>\n",
       "      <td>3</td>\n",
       "      <td>2</td>\n",
       "      <td>0.018430</td>\n",
       "    </tr>\n",
       "    <tr>\n",
       "      <th>4</th>\n",
       "      <td>1</td>\n",
       "      <td>1990</td>\n",
       "      <td>4</td>\n",
       "      <td>1</td>\n",
       "      <td>0.017106</td>\n",
       "    </tr>\n",
       "  </tbody>\n",
       "</table>\n",
       "</div>"
      ],
      "text/plain": [
       "   location_id  year_id  age_group_id  sex_id       std\n",
       "0            1     1990             2       1  0.019341\n",
       "1            1     1990             2       2  0.018662\n",
       "2            1     1990             3       1  0.019100\n",
       "3            1     1990             3       2  0.018430\n",
       "4            1     1990             4       1  0.017106"
      ]
     },
     "execution_count": 5,
     "metadata": {},
     "output_type": "execute_result"
    }
   ],
   "source": [
    "data_std.rename(columns={'value': 'std'}, inplace=True)\n",
    "data_std.head()"
   ]
  },
  {
   "cell_type": "code",
   "execution_count": 6,
   "metadata": {},
   "outputs": [],
   "source": [
    "data_std_log = pd.read_csv('./data/20191002_tb_latent_std_log.csv')"
   ]
  },
  {
   "cell_type": "code",
   "execution_count": 7,
   "metadata": {},
   "outputs": [],
   "source": [
    "data_std_log.rename(columns={'value': 'std_log'}, inplace=True)"
   ]
  },
  {
   "cell_type": "code",
   "execution_count": 8,
   "metadata": {},
   "outputs": [
    {
     "data": {
      "text/html": [
       "<div>\n",
       "<style scoped>\n",
       "    .dataframe tbody tr th:only-of-type {\n",
       "        vertical-align: middle;\n",
       "    }\n",
       "\n",
       "    .dataframe tbody tr th {\n",
       "        vertical-align: top;\n",
       "    }\n",
       "\n",
       "    .dataframe thead th {\n",
       "        text-align: right;\n",
       "    }\n",
       "</style>\n",
       "<table border=\"1\" class=\"dataframe\">\n",
       "  <thead>\n",
       "    <tr style=\"text-align: right;\">\n",
       "      <th></th>\n",
       "      <th>location_id</th>\n",
       "      <th>year_id</th>\n",
       "      <th>age_group_id</th>\n",
       "      <th>sex_id</th>\n",
       "      <th>std_log</th>\n",
       "    </tr>\n",
       "  </thead>\n",
       "  <tbody>\n",
       "    <tr>\n",
       "      <th>0</th>\n",
       "      <td>1</td>\n",
       "      <td>1990</td>\n",
       "      <td>2</td>\n",
       "      <td>1</td>\n",
       "      <td>0.148213</td>\n",
       "    </tr>\n",
       "    <tr>\n",
       "      <th>1</th>\n",
       "      <td>1</td>\n",
       "      <td>1990</td>\n",
       "      <td>2</td>\n",
       "      <td>2</td>\n",
       "      <td>0.147902</td>\n",
       "    </tr>\n",
       "    <tr>\n",
       "      <th>2</th>\n",
       "      <td>1</td>\n",
       "      <td>1990</td>\n",
       "      <td>3</td>\n",
       "      <td>1</td>\n",
       "      <td>0.146461</td>\n",
       "    </tr>\n",
       "    <tr>\n",
       "      <th>3</th>\n",
       "      <td>1</td>\n",
       "      <td>1990</td>\n",
       "      <td>3</td>\n",
       "      <td>2</td>\n",
       "      <td>0.146140</td>\n",
       "    </tr>\n",
       "    <tr>\n",
       "      <th>4</th>\n",
       "      <td>1</td>\n",
       "      <td>1990</td>\n",
       "      <td>4</td>\n",
       "      <td>1</td>\n",
       "      <td>0.130146</td>\n",
       "    </tr>\n",
       "  </tbody>\n",
       "</table>\n",
       "</div>"
      ],
      "text/plain": [
       "   location_id  year_id  age_group_id  sex_id   std_log\n",
       "0            1     1990             2       1  0.148213\n",
       "1            1     1990             2       2  0.147902\n",
       "2            1     1990             3       1  0.146461\n",
       "3            1     1990             3       2  0.146140\n",
       "4            1     1990             4       1  0.130146"
      ]
     },
     "execution_count": 8,
     "metadata": {},
     "output_type": "execute_result"
    }
   ],
   "source": [
    "data_std_log.head()"
   ]
  },
  {
   "cell_type": "code",
   "execution_count": 9,
   "metadata": {},
   "outputs": [],
   "source": [
    "data = data.merge(data_std, how='left', on=['age_group_id', 'location_id', 'sex_id', 'year_id'])"
   ]
  },
  {
   "cell_type": "code",
   "execution_count": 10,
   "metadata": {},
   "outputs": [
    {
     "data": {
      "text/html": [
       "<div>\n",
       "<style scoped>\n",
       "    .dataframe tbody tr th:only-of-type {\n",
       "        vertical-align: middle;\n",
       "    }\n",
       "\n",
       "    .dataframe tbody tr th {\n",
       "        vertical-align: top;\n",
       "    }\n",
       "\n",
       "    .dataframe thead th {\n",
       "        text-align: right;\n",
       "    }\n",
       "</style>\n",
       "<table border=\"1\" class=\"dataframe\">\n",
       "  <thead>\n",
       "    <tr style=\"text-align: right;\">\n",
       "      <th></th>\n",
       "      <th>age_group_id</th>\n",
       "      <th>location_id</th>\n",
       "      <th>sex_id</th>\n",
       "      <th>year_id</th>\n",
       "      <th>value</th>\n",
       "      <th>haq</th>\n",
       "      <th>intercept</th>\n",
       "      <th>2_X_1</th>\n",
       "      <th>2_X_2</th>\n",
       "      <th>3_X_1</th>\n",
       "      <th>...</th>\n",
       "      <th>30_X_2</th>\n",
       "      <th>31_X_1</th>\n",
       "      <th>31_X_2</th>\n",
       "      <th>32_X_1</th>\n",
       "      <th>32_X_2</th>\n",
       "      <th>235_X_1</th>\n",
       "      <th>235_X_2</th>\n",
       "      <th>lme_fit</th>\n",
       "      <th>std</th>\n",
       "      <th>std_log</th>\n",
       "    </tr>\n",
       "  </thead>\n",
       "  <tbody>\n",
       "    <tr>\n",
       "      <th>0</th>\n",
       "      <td>2</td>\n",
       "      <td>6</td>\n",
       "      <td>1</td>\n",
       "      <td>1990</td>\n",
       "      <td>-1.816082</td>\n",
       "      <td>43.258941</td>\n",
       "      <td>1</td>\n",
       "      <td>1</td>\n",
       "      <td>0</td>\n",
       "      <td>0</td>\n",
       "      <td>...</td>\n",
       "      <td>0</td>\n",
       "      <td>0</td>\n",
       "      <td>0</td>\n",
       "      <td>0</td>\n",
       "      <td>0</td>\n",
       "      <td>0</td>\n",
       "      <td>0</td>\n",
       "      <td>-2.285194</td>\n",
       "      <td>0.019605</td>\n",
       "      <td>0.139473</td>\n",
       "    </tr>\n",
       "    <tr>\n",
       "      <th>1</th>\n",
       "      <td>2</td>\n",
       "      <td>6</td>\n",
       "      <td>1</td>\n",
       "      <td>1991</td>\n",
       "      <td>-1.828331</td>\n",
       "      <td>44.078531</td>\n",
       "      <td>1</td>\n",
       "      <td>1</td>\n",
       "      <td>0</td>\n",
       "      <td>0</td>\n",
       "      <td>...</td>\n",
       "      <td>0</td>\n",
       "      <td>0</td>\n",
       "      <td>0</td>\n",
       "      <td>0</td>\n",
       "      <td>0</td>\n",
       "      <td>0</td>\n",
       "      <td>0</td>\n",
       "      <td>-2.308028</td>\n",
       "      <td>0.019377</td>\n",
       "      <td>0.139203</td>\n",
       "    </tr>\n",
       "    <tr>\n",
       "      <th>2</th>\n",
       "      <td>2</td>\n",
       "      <td>6</td>\n",
       "      <td>1</td>\n",
       "      <td>1992</td>\n",
       "      <td>-1.838447</td>\n",
       "      <td>44.913657</td>\n",
       "      <td>1</td>\n",
       "      <td>1</td>\n",
       "      <td>0</td>\n",
       "      <td>0</td>\n",
       "      <td>...</td>\n",
       "      <td>0</td>\n",
       "      <td>0</td>\n",
       "      <td>0</td>\n",
       "      <td>0</td>\n",
       "      <td>0</td>\n",
       "      <td>0</td>\n",
       "      <td>0</td>\n",
       "      <td>-2.331294</td>\n",
       "      <td>0.019193</td>\n",
       "      <td>0.139013</td>\n",
       "    </tr>\n",
       "    <tr>\n",
       "      <th>3</th>\n",
       "      <td>2</td>\n",
       "      <td>6</td>\n",
       "      <td>1</td>\n",
       "      <td>1993</td>\n",
       "      <td>-1.846512</td>\n",
       "      <td>45.764612</td>\n",
       "      <td>1</td>\n",
       "      <td>1</td>\n",
       "      <td>0</td>\n",
       "      <td>0</td>\n",
       "      <td>...</td>\n",
       "      <td>0</td>\n",
       "      <td>0</td>\n",
       "      <td>0</td>\n",
       "      <td>0</td>\n",
       "      <td>0</td>\n",
       "      <td>0</td>\n",
       "      <td>0</td>\n",
       "      <td>-2.355002</td>\n",
       "      <td>0.019054</td>\n",
       "      <td>0.138922</td>\n",
       "    </tr>\n",
       "    <tr>\n",
       "      <th>4</th>\n",
       "      <td>2</td>\n",
       "      <td>6</td>\n",
       "      <td>1</td>\n",
       "      <td>1994</td>\n",
       "      <td>-1.852300</td>\n",
       "      <td>46.631696</td>\n",
       "      <td>1</td>\n",
       "      <td>1</td>\n",
       "      <td>0</td>\n",
       "      <td>0</td>\n",
       "      <td>...</td>\n",
       "      <td>0</td>\n",
       "      <td>0</td>\n",
       "      <td>0</td>\n",
       "      <td>0</td>\n",
       "      <td>0</td>\n",
       "      <td>0</td>\n",
       "      <td>0</td>\n",
       "      <td>-2.379159</td>\n",
       "      <td>0.018964</td>\n",
       "      <td>0.138930</td>\n",
       "    </tr>\n",
       "  </tbody>\n",
       "</table>\n",
       "<p>5 rows × 56 columns</p>\n",
       "</div>"
      ],
      "text/plain": [
       "   age_group_id  location_id  sex_id  year_id     value        haq  intercept  \\\n",
       "0             2            6       1     1990 -1.816082  43.258941          1   \n",
       "1             2            6       1     1991 -1.828331  44.078531          1   \n",
       "2             2            6       1     1992 -1.838447  44.913657          1   \n",
       "3             2            6       1     1993 -1.846512  45.764612          1   \n",
       "4             2            6       1     1994 -1.852300  46.631696          1   \n",
       "\n",
       "   2_X_1  2_X_2  3_X_1  ...  30_X_2  31_X_1  31_X_2  32_X_1  32_X_2  235_X_1  \\\n",
       "0      1      0      0  ...       0       0       0       0       0        0   \n",
       "1      1      0      0  ...       0       0       0       0       0        0   \n",
       "2      1      0      0  ...       0       0       0       0       0        0   \n",
       "3      1      0      0  ...       0       0       0       0       0        0   \n",
       "4      1      0      0  ...       0       0       0       0       0        0   \n",
       "\n",
       "   235_X_2   lme_fit       std   std_log  \n",
       "0        0 -2.285194  0.019605  0.139473  \n",
       "1        0 -2.308028  0.019377  0.139203  \n",
       "2        0 -2.331294  0.019193  0.139013  \n",
       "3        0 -2.355002  0.019054  0.138922  \n",
       "4        0 -2.379159  0.018964  0.138930  \n",
       "\n",
       "[5 rows x 56 columns]"
      ]
     },
     "execution_count": 10,
     "metadata": {},
     "output_type": "execute_result"
    }
   ],
   "source": [
    "data = data.merge(data_std_log, how='left', on=['age_group_id', 'location_id', 'sex_id', 'year_id'])\n",
    "data.head()"
   ]
  },
  {
   "cell_type": "code",
   "execution_count": 11,
   "metadata": {},
   "outputs": [
    {
     "data": {
      "text/plain": [
       "(251160, 56)"
      ]
     },
     "execution_count": 11,
     "metadata": {},
     "output_type": "execute_result"
    }
   ],
   "source": [
    "data.shape"
   ]
  },
  {
   "cell_type": "code",
   "execution_count": 12,
   "metadata": {},
   "outputs": [],
   "source": [
    "Y = data['value'].values\n",
    "haq = data[(data['age_group_id'] == 2) & (data['sex_id'] == 1)]['haq'].values\n",
    "#haq = haq - np.mean(haq)\n",
    "#haq = haq/np.linalg.norm(haq)\n",
    "n_locs = 195\n",
    "n_ages = 23\n",
    "T = 28"
   ]
  },
  {
   "cell_type": "code",
   "execution_count": 13,
   "metadata": {},
   "outputs": [],
   "source": [
    "# cond_num = set()\n",
    "# for i in range(n_locs):\n",
    "#     X = np.insert(haq[i*T:(i+1)*T].reshape((-1,1)),0, 1,axis=1)\n",
    "#     cond_num.add(np.linalg.cond(np.tile(X,(2,1))))"
   ]
  },
  {
   "cell_type": "markdown",
   "metadata": {},
   "source": [
    "#### Build model\n",
    "\n",
    "$$ y = \\beta \\text{HAQ} + \\beta_I \\text{age-sex} + \\pi_{l,a} + \\text{HAQ} \\pi_{l,a} $$"
   ]
  },
  {
   "cell_type": "code",
   "execution_count": 14,
   "metadata": {},
   "outputs": [],
   "source": [
    "model = LME([n_locs,n_ages,2,T], 2, Y, {'haq':(haq,[True,False,False,True])}, \n",
    "            indicators={'ind_age-sex':[False,True,True,False]}, \n",
    "            global_effects_names={'haq':[-float('inf'), float('inf')]},\n",
    "            global_intercept=False,\n",
    "            random_effects={'intercept': [True, True, False, False],'haq': [True, True, False, False]})"
   ]
  },
  {
   "cell_type": "markdown",
   "metadata": {},
   "source": [
    "- not using std"
   ]
  },
  {
   "cell_type": "code",
   "execution_count": 15,
   "metadata": {},
   "outputs": [
    {
     "name": "stdout",
     "output_type": "stream",
     "text": [
      "n_groups 4485\n",
      "k_beta 47\n",
      "k_gamma 2\n",
      "total number of fixed effects variables 50\n",
      "elapsed 52.84145188331604\n"
     ]
    }
   ],
   "source": [
    "import time\n",
    "t0 = time.time()\n",
    "model.optimize(inner_max_iter=500, inner_tol=1e-5, inner_print_level=5,inner_acceptable_tol=1e-6)\n",
    "print('elapsed', time.time()-t0)"
   ]
  },
  {
   "cell_type": "code",
   "execution_count": 16,
   "metadata": {},
   "outputs": [
    {
     "data": {
      "text/plain": [
       "array([-0.02883241, -1.17945073, -1.23191079, -1.17868918, -1.23109453,\n",
       "       -1.16868225, -1.22065977, -1.1209782 , -1.17084824, -0.93757558,\n",
       "       -0.98880391, -0.613157  , -0.67144832, -0.30898629, -0.38138614,\n",
       "        0.01952141, -0.07531363,  0.26362256,  0.15831193,  0.4276619 ,\n",
       "        0.32279684,  0.61645792,  0.50283113,  0.71235058,  0.59083687,\n",
       "        0.76388235,  0.65205128,  0.83749297,  0.74088716,  0.84243491,\n",
       "        0.74834667,  0.84053199,  0.73777845,  0.89099125,  0.77496315,\n",
       "        0.68987559,  0.56396912,  0.40199244,  0.2762733 ,  0.26424123,\n",
       "        0.14957838,  0.12353305,  0.02075873, -0.02263863, -0.11202183,\n",
       "       -0.17772732, -0.25105099])"
      ]
     },
     "execution_count": 16,
     "metadata": {},
     "output_type": "execute_result"
    }
   ],
   "source": [
    "model.beta_soln"
   ]
  },
  {
   "cell_type": "code",
   "execution_count": 17,
   "metadata": {},
   "outputs": [
    {
     "data": {
      "text/plain": [
       "array([5.87628745e-01, 1.29159109e-04])"
      ]
     },
     "execution_count": 17,
     "metadata": {},
     "output_type": "execute_result"
    }
   ],
   "source": [
    "model.gamma_soln"
   ]
  },
  {
   "cell_type": "code",
   "execution_count": 18,
   "metadata": {},
   "outputs": [
    {
     "data": {
      "text/plain": [
       "array([0.00205217])"
      ]
     },
     "execution_count": 18,
     "metadata": {},
     "output_type": "execute_result"
    }
   ],
   "source": [
    "model.delta_soln"
   ]
  },
  {
   "cell_type": "code",
   "execution_count": 19,
   "metadata": {},
   "outputs": [],
   "source": [
    "yfit1 = copy.deepcopy(model.yfit)"
   ]
  },
  {
   "cell_type": "markdown",
   "metadata": {},
   "source": [
    "- use std before transformation"
   ]
  },
  {
   "cell_type": "code",
   "execution_count": 20,
   "metadata": {},
   "outputs": [
    {
     "name": "stdout",
     "output_type": "stream",
     "text": [
      "n_groups 4485\n",
      "k_beta 47\n",
      "k_gamma 2\n",
      "total number of fixed effects variables 49\n",
      "elapsed 1.1454298496246338\n"
     ]
    }
   ],
   "source": [
    "S = data['std'].values\n",
    "import time\n",
    "t0 = time.time()\n",
    "model.optimize(inner_max_iter=500, inner_tol=1e-6, inner_print_level=5 ,inner_acceptable_tol=1e-6,S=S)\n",
    "print('elapsed', time.time()-t0)"
   ]
  },
  {
   "cell_type": "code",
   "execution_count": 21,
   "metadata": {},
   "outputs": [
    {
     "data": {
      "text/plain": [
       "array([ 0.00019423, -0.02557646, -0.06165879, -0.02562522, -0.061315  ,\n",
       "       -0.02280433, -0.06112016, -0.02357069, -0.06940491, -0.01822478,\n",
       "       -0.0853705 , -0.01327616, -0.09874069, -0.01920095, -0.10573783,\n",
       "       -0.02658774, -0.10475293, -0.03541001, -0.10089694, -0.03959379,\n",
       "       -0.10040237, -0.03377626, -0.10611691, -0.03443884, -0.1076334 ,\n",
       "       -0.04397339, -0.09603879, -0.05534305, -0.08136005, -0.06018654,\n",
       "       -0.07957636, -0.05729241, -0.08474294, -0.04888209, -0.09018413,\n",
       "       -0.02582553, -0.1067293 , -0.00293378, -0.12699336,  0.01656852,\n",
       "       -0.12869593,  0.01314079, -0.11447481, -0.00277457, -0.1052694 ,\n",
       "       -0.03934762, -0.09416683])"
      ]
     },
     "execution_count": 21,
     "metadata": {},
     "output_type": "execute_result"
    }
   ],
   "source": [
    "model.beta_soln"
   ]
  },
  {
   "cell_type": "code",
   "execution_count": 22,
   "metadata": {},
   "outputs": [
    {
     "data": {
      "text/plain": [
       "array([0.12089918, 0.13539431])"
      ]
     },
     "execution_count": 22,
     "metadata": {},
     "output_type": "execute_result"
    }
   ],
   "source": [
    "model.gamma_soln"
   ]
  },
  {
   "cell_type": "code",
   "execution_count": 23,
   "metadata": {},
   "outputs": [],
   "source": [
    "yfit2 = copy.deepcopy(model.yfit)"
   ]
  },
  {
   "cell_type": "code",
   "execution_count": 24,
   "metadata": {},
   "outputs": [
    {
     "name": "stdout",
     "output_type": "stream",
     "text": [
      "0.013789514621908465\n"
     ]
    }
   ],
   "source": [
    "print(np.linalg.norm(yfit1 - yfit2)/np.linalg.norm(yfit1))"
   ]
  },
  {
   "cell_type": "markdown",
   "metadata": {},
   "source": [
    "- use log-transformed std"
   ]
  },
  {
   "cell_type": "code",
   "execution_count": 25,
   "metadata": {},
   "outputs": [
    {
     "name": "stdout",
     "output_type": "stream",
     "text": [
      "n_groups 4485\n",
      "k_beta 47\n",
      "k_gamma 2\n",
      "total number of fixed effects variables 49\n",
      "elapsed 3.509734869003296\n"
     ]
    }
   ],
   "source": [
    "S = data['std_log'].values\n",
    "import time\n",
    "t0 = time.time()\n",
    "model.optimize(inner_max_iter=500, inner_tol=1e-6, inner_print_level=5,inner_acceptable_tol=1e-6,S=S)\n",
    "print('elapsed', time.time()-t0)"
   ]
  },
  {
   "cell_type": "code",
   "execution_count": 26,
   "metadata": {},
   "outputs": [
    {
     "data": {
      "text/plain": [
       "array([-0.02898112, -0.0732834 , -0.13156889, -0.0692    , -0.1273399 ,\n",
       "       -0.02867547, -0.08418134, -0.11122161, -0.1662157 , -0.11470971,\n",
       "       -0.16836117, -0.04091219, -0.10240147,  0.01111177, -0.06341677,\n",
       "        0.084607  , -0.01480835,  0.12413208,  0.01278147,  0.13971095,\n",
       "        0.03088963,  0.17856048,  0.05921938,  0.19097109,  0.06600025,\n",
       "        0.20521256,  0.08621872,  0.21467437,  0.10820046,  0.21286262,\n",
       "        0.11106609,  0.21430666,  0.10477343,  0.2299274 ,  0.10477687,\n",
       "        0.21877308,  0.07825269,  0.17509014,  0.03713   ,  0.19392104,\n",
       "        0.07188358,  0.19324205,  0.09294768,  0.14614003,  0.0505963 ,\n",
       "        0.00849824, -0.06489276])"
      ]
     },
     "execution_count": 26,
     "metadata": {},
     "output_type": "execute_result"
    }
   ],
   "source": [
    "model.beta_soln"
   ]
  },
  {
   "cell_type": "code",
   "execution_count": 27,
   "metadata": {},
   "outputs": [
    {
     "data": {
      "text/plain": [
       "array([1.39415508e-01, 2.44430682e-05])"
      ]
     },
     "execution_count": 27,
     "metadata": {},
     "output_type": "execute_result"
    }
   ],
   "source": [
    "model.gamma_soln"
   ]
  },
  {
   "cell_type": "code",
   "execution_count": 28,
   "metadata": {},
   "outputs": [],
   "source": [
    "yfit3 = copy.deepcopy(model.yfit)"
   ]
  },
  {
   "cell_type": "code",
   "execution_count": 29,
   "metadata": {},
   "outputs": [
    {
     "name": "stdout",
     "output_type": "stream",
     "text": [
      "0.018468479568165563\n"
     ]
    }
   ],
   "source": [
    "print(np.linalg.norm(yfit1 - yfit3)/np.linalg.norm(yfit1))"
   ]
  },
  {
   "cell_type": "code",
   "execution_count": null,
   "metadata": {},
   "outputs": [],
   "source": []
  }
 ],
 "metadata": {
  "kernelspec": {
   "display_name": "Python 3",
   "language": "python",
   "name": "python3"
  },
  "language_info": {
   "codemirror_mode": {
    "name": "ipython",
    "version": 3
   },
   "file_extension": ".py",
   "mimetype": "text/x-python",
   "name": "python",
   "nbconvert_exporter": "python",
   "pygments_lexer": "ipython3",
   "version": "3.6.8"
  }
 },
 "nbformat": 4,
 "nbformat_minor": 2
}
