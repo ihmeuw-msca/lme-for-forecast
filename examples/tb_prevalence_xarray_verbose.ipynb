{
 "cells": [
  {
   "cell_type": "code",
   "execution_count": 1,
   "metadata": {},
   "outputs": [],
   "source": [
    "import xarray\n",
    "import numpy as np\n",
    "from lme import LME\n",
    "import lme.utils as utils"
   ]
  },
  {
   "cell_type": "markdown",
   "metadata": {},
   "source": [
    "#### Read data"
   ]
  },
  {
   "cell_type": "code",
   "execution_count": 2,
   "metadata": {},
   "outputs": [
    {
     "name": "stdout",
     "output_type": "stream",
     "text": [
      "(251160,) (5460,)\n"
     ]
    }
   ],
   "source": [
    "n_years = 28\n",
    "n_locs = 195\n",
    "n_ages = 23\n",
    "n_sexes = 2\n",
    "y_data = xarray.open_dataset('./data/20190726_tb_latent_prev.nc').transpose('location_id', 'age_group_id', 'sex_id', 'year_id')['value'].values\n",
    "y = y_data[:n_locs, :n_ages, :n_sexes, :n_years].reshape(-1)\n",
    "Y = np.log(y) - np.log(1-y)\n",
    "haq_data = xarray.open_dataset('./data/20190726_haq.nc').transpose('location_id', 'age_group_id', 'sex_id', 'year_id')['value'].values\n",
    "haq = haq_data[:n_locs,:n_ages,:n_sexes,:n_years].reshape(-1)\n",
    "print(Y.shape, haq.shape)"
   ]
  },
  {
   "cell_type": "markdown",
   "metadata": {},
   "source": [
    "#### Build model\n",
    "\n",
    "$$ y = \\beta \\text{HAQ} + \\beta_I \\text{age-sex} + \\pi_l $$"
   ]
  },
  {
   "cell_type": "code",
   "execution_count": 3,
   "metadata": {},
   "outputs": [],
   "source": [
    "model = LME([n_locs,n_ages,2,n_years], 1, Y, \n",
    "            {'haq':(haq - np.mean(haq),[True,False,False,True])},\n",
    "            indicators={'ind_age-sex':[False,True,True,False]}, \n",
    "            global_effects_names=['haq'], \n",
    "            global_intercept=False, \n",
    "            random_effects={'intercept_location':[True,False,False,False]})"
   ]
  },
  {
   "cell_type": "code",
   "execution_count": 4,
   "metadata": {},
   "outputs": [
    {
     "name": "stdout",
     "output_type": "stream",
     "text": [
      "n_groups 195\n",
      "k_beta 47\n",
      "k_gamma 1\n",
      "total number of fixed effects variables 49\n",
      "elapsed 3.6989309787750244\n"
     ]
    }
   ],
   "source": [
    "import time\n",
    "t0 = time.time()\n",
    "model.optimize(inner_max_iter=200)\n",
    "print('elapsed', time.time()-t0)"
   ]
  },
  {
   "cell_type": "markdown",
   "metadata": {},
   "source": [
    "#### Sample $\\beta$ and $\\pi$"
   ]
  },
  {
   "cell_type": "code",
   "execution_count": 5,
   "metadata": {},
   "outputs": [],
   "source": [
    "model.postVarGlobal()\n",
    "model.postVarRandom()"
   ]
  },
  {
   "cell_type": "code",
   "execution_count": 6,
   "metadata": {},
   "outputs": [],
   "source": [
    "beta_samples, u_samples = model.draw()"
   ]
  },
  {
   "cell_type": "code",
   "execution_count": 7,
   "metadata": {},
   "outputs": [],
   "source": [
    "samples_pairs = model.outputDraws(by_type=False)"
   ]
  },
  {
   "cell_type": "code",
   "execution_count": 8,
   "metadata": {},
   "outputs": [],
   "source": [
    "cov_samples, ind_samples, ran_eff_samples = model.outputDraws(by_type=True, combine_cov=True)"
   ]
  },
  {
   "cell_type": "code",
   "execution_count": 9,
   "metadata": {},
   "outputs": [
    {
     "data": {
      "text/plain": [
       "CovDraws(array=array([[-0.02602872, -0.02589877, -0.02585231, -0.02584249, -0.02589662,\n",
       "        -0.02599817, -0.02607857, -0.02594871, -0.02597201, -0.02605046]]), names=['haq'])"
      ]
     },
     "execution_count": 9,
     "metadata": {},
     "output_type": "execute_result"
    }
   ],
   "source": [
    "cov_samples"
   ]
  },
  {
   "cell_type": "code",
   "execution_count": 10,
   "metadata": {},
   "outputs": [],
   "source": [
    "cov_samples, ind_samples, ran_eff_samples = model.outputDraws(by_type=True, combine_cov=False)"
   ]
  },
  {
   "cell_type": "code",
   "execution_count": 11,
   "metadata": {},
   "outputs": [
    {
     "data": {
      "text/plain": [
       "[Draws(array=array([-0.02604667, -0.02581138, -0.02585465, -0.02600902, -0.02588871,\n",
       "        -0.02598752, -0.02590011, -0.02606395, -0.02600862, -0.02591017]), name='haq')]"
      ]
     },
     "execution_count": 11,
     "metadata": {},
     "output_type": "execute_result"
    }
   ],
   "source": [
    "cov_samples"
   ]
  },
  {
   "cell_type": "code",
   "execution_count": 12,
   "metadata": {},
   "outputs": [],
   "source": [
    "location_ids = xarray.open_dataset('./data/20190726_tb_latent_prev.nc').coords['location_id'].values\n",
    "coord_dict = {'location_id':location_ids}\n",
    "dataset = utils.saveDraws(beta_samples[0,:].reshape((1,-1)), u_samples, ['haq'], [['location_id']], \n",
    "                          ['pi_location'], coord_dict)"
   ]
  },
  {
   "cell_type": "code",
   "execution_count": 13,
   "metadata": {},
   "outputs": [
    {
     "data": {
      "text/plain": [
       "<xarray.Dataset>\n",
       "Dimensions:      (cov: 1, draw: 10, location_id: 195)\n",
       "Coordinates:\n",
       "  * location_id  (location_id) int64 6 7 8 10 11 12 ... 351 376 385 422 435 522\n",
       "  * draw         (draw) int64 1 2 3 4 5 6 7 8 9 10\n",
       "  * cov          (cov) <U3 'haq'\n",
       "Data variables:\n",
       "    pi_location  (location_id, draw) float64 0.5525 0.5554 ... 1.463 1.466\n",
       "    beta_global  (cov, draw) float64 -0.02594 -0.02608 ... -0.02608 -0.02601"
      ]
     },
     "execution_count": 13,
     "metadata": {},
     "output_type": "execute_result"
    }
   ],
   "source": [
    "dataset"
   ]
  },
  {
   "cell_type": "code",
   "execution_count": null,
   "metadata": {},
   "outputs": [],
   "source": []
  }
 ],
 "metadata": {
  "kernelspec": {
   "display_name": "Python 3",
   "language": "python",
   "name": "python3"
  },
  "language_info": {
   "codemirror_mode": {
    "name": "ipython",
    "version": 3
   },
   "file_extension": ".py",
   "mimetype": "text/x-python",
   "name": "python",
   "nbconvert_exporter": "python",
   "pygments_lexer": "ipython3",
   "version": "3.7.3"
  }
 },
 "nbformat": 4,
 "nbformat_minor": 2
}
