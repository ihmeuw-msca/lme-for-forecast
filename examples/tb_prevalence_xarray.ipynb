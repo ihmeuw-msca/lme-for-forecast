{
 "cells": [
  {
   "cell_type": "code",
   "execution_count": 1,
   "metadata": {},
   "outputs": [],
   "source": [
    "import xarray\n",
    "import numpy as np\n",
    "import sys\n",
    "sys.path.insert(0,'../code/')\n",
    "from lme_forecast_general import LME\n",
    "import utils"
   ]
  },
  {
   "cell_type": "markdown",
   "metadata": {},
   "source": [
    "#### Read data"
   ]
  },
  {
   "cell_type": "code",
   "execution_count": 2,
   "metadata": {},
   "outputs": [
    {
     "name": "stdout",
     "output_type": "stream",
     "text": [
      "(251160,) (5460,)\n"
     ]
    }
   ],
   "source": [
    "T = 28\n",
    "n_locs = 195\n",
    "n_ages = 23\n",
    "n_sexes = 2\n",
    "y_data = xarray.open_dataset('./data/20190726_tb_latent_prev.nc').transpose('location_id', 'age_group_id', 'sex_id', 'year_id')['value'].values\n",
    "y = y_data[:n_locs, :n_ages, :n_sexes, :T].reshape(-1)\n",
    "Y = np.log(y) - np.log(1-y)\n",
    "haq_data = xarray.open_dataset('./data/20190726_haq.nc').transpose('location_id', 'age_group_id', 'sex_id', 'year_id')['value'].values\n",
    "haq = haq_data[:n_locs,:n_ages,:n_sexes,:T].reshape(-1)\n",
    "print(Y.shape, haq.shape)"
   ]
  },
  {
   "cell_type": "markdown",
   "metadata": {},
   "source": [
    "#### Build model\n",
    "\n",
    "$$ y = \\beta \\text{HAQ} + \\beta_I \\text{age-sex} + \\pi_l $$"
   ]
  },
  {
   "cell_type": "code",
   "execution_count": 10,
   "metadata": {},
   "outputs": [],
   "source": [
    "model = LME([n_locs,n_ages,2,T], 1, Y, [(haq - np.mean(haq),[True,False,False,True])], indicators=[[False,True,True,False]], \n",
    "            global_effects_indices=[0], random_effects_list=[],\n",
    "            global_intercept=False, random_intercepts=[[False,False,False]])"
   ]
  },
  {
   "cell_type": "code",
   "execution_count": 11,
   "metadata": {},
   "outputs": [
    {
     "name": "stdout",
     "output_type": "stream",
     "text": [
      "n_groups 195\n",
      "k_beta 47\n",
      "k_gamma 1\n",
      "total number of fixed effects variables 49\n",
      "fit with gamma fixed...\n",
      "finished...elapsed 2.498155117034912\n",
      "elapsed 3.8607161045074463\n"
     ]
    }
   ],
   "source": [
    "import time\n",
    "t0 = time.time()\n",
    "model.optimize(inner_max_iter=200)\n",
    "print('elapsed', time.time()-t0)"
   ]
  },
  {
   "cell_type": "code",
   "execution_count": 13,
   "metadata": {},
   "outputs": [
    {
     "data": {
      "text/plain": [
       "50.36815012431488"
      ]
     },
     "execution_count": 13,
     "metadata": {},
     "output_type": "execute_result"
    }
   ],
   "source": [
    "# import pandas as pd\n",
    "# lme_fit = pd.read_csv('./data/tb_prevalence.csv')['lme_fit'].values\n",
    "# np.linalg.norm(model.yfit_no_random - lme_fit)/ np.linalg.norm(lme_fit) "
   ]
  },
  {
   "cell_type": "markdown",
   "metadata": {},
   "source": [
    "#### Sample $\\beta$ and $\\pi$"
   ]
  },
  {
   "cell_type": "code",
   "execution_count": 14,
   "metadata": {},
   "outputs": [],
   "source": [
    "model.postVarGlobal()\n",
    "model.postVarRandom()"
   ]
  },
  {
   "cell_type": "code",
   "execution_count": 15,
   "metadata": {},
   "outputs": [],
   "source": [
    "beta_samples, u_samples = model.draw()"
   ]
  },
  {
   "cell_type": "code",
   "execution_count": 16,
   "metadata": {},
   "outputs": [],
   "source": [
    "dataset = utils.saveDraws(beta_samples[0,:].reshape((1,-1)), u_samples, ['haq'], [['location']], ['pi_location'])"
   ]
  },
  {
   "cell_type": "code",
   "execution_count": 17,
   "metadata": {},
   "outputs": [
    {
     "data": {
      "text/plain": [
       "<xarray.Dataset>\n",
       "Dimensions:      (cov: 1, draw: 10, location: 195)\n",
       "Coordinates:\n",
       "  * location     (location) int64 1 2 3 4 5 6 7 ... 189 190 191 192 193 194 195\n",
       "  * draw         (draw) int64 1 2 3 4 5 6 7 8 9 10\n",
       "  * cov          (cov) <U3 'haq'\n",
       "Data variables:\n",
       "    pi_location  (location, draw) float64 0.5564 0.5495 0.5544 ... 1.454 1.472\n",
       "    beta_global  (cov, draw) float64 -0.026 -0.02601 ... -0.02584 -0.02591"
      ]
     },
     "execution_count": 17,
     "metadata": {},
     "output_type": "execute_result"
    }
   ],
   "source": [
    "dataset"
   ]
  },
  {
   "cell_type": "code",
   "execution_count": null,
   "metadata": {},
   "outputs": [],
   "source": []
  }
 ],
 "metadata": {
  "kernelspec": {
   "display_name": "Python 3",
   "language": "python",
   "name": "python3"
  },
  "language_info": {
   "codemirror_mode": {
    "name": "ipython",
    "version": 3
   },
   "file_extension": ".py",
   "mimetype": "text/x-python",
   "name": "python",
   "nbconvert_exporter": "python",
   "pygments_lexer": "ipython3",
   "version": "3.7.3"
  }
 },
 "nbformat": 4,
 "nbformat_minor": 2
}
